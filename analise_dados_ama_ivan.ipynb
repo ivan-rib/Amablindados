{
  "nbformat": 4,
  "nbformat_minor": 0,
  "metadata": {
    "colab": {
      "name": "analise_dados_ama_ivan.ipynb",
      "provenance": [],
      "collapsed_sections": [],
      "authorship_tag": "ABX9TyOk+WCP6gIOwdFg1X90R2lF",
      "include_colab_link": true
    },
    "kernelspec": {
      "name": "python3",
      "display_name": "Python 3"
    },
    "language_info": {
      "name": "python"
    }
  },
  "cells": [
    {
      "cell_type": "markdown",
      "metadata": {
        "id": "view-in-github",
        "colab_type": "text"
      },
      "source": [
        "<a href=\"https://colab.research.google.com/github/ivan-rib/Amablindados/blob/main/analise_dados_ama_ivan.ipynb\" target=\"_parent\"><img src=\"https://colab.research.google.com/assets/colab-badge.svg\" alt=\"Open In Colab\"/></a>"
      ]
    },
    {
      "cell_type": "code",
      "execution_count": null,
      "metadata": {
        "id": "Ihq02og3uSyQ"
      },
      "outputs": [],
      "source": [
        "!apt-get install openjdk-8-jdk-headless -qq > /dev/null\n",
        "!wget -q https://archive.apache.org/dist/spark/spark-2.4.4/spark-2.4.4-bin-hadoop2.7.tgz\n",
        "!tar xf spark-2.4.4-bin-hadoop2.7.tgz\n",
        "!pip install -q findspark"
      ]
    },
    {
      "cell_type": "code",
      "source": [
        "import os\n",
        "os.environ[\"JAVA_HOME\"] = \"/usr/lib/jvm/java-8-openjdk-amd64\"\n",
        "os.environ[\"SPARK_HOME\"] = \"/content/spark-2.4.4-bin-hadoop2.7\"\n",
        "\n",
        "# tornar o pyspark \"importável\"\n",
        "import findspark\n",
        "findspark.init('spark-2.4.4-bin-hadoop2.7')"
      ],
      "metadata": {
        "id": "mdsYot7Gupj3"
      },
      "execution_count": null,
      "outputs": []
    },
    {
      "cell_type": "code",
      "source": [
        "pip install pyspark"
      ],
      "metadata": {
        "colab": {
          "base_uri": "https://localhost:8080/"
        },
        "id": "LqMLQPIivEW4",
        "outputId": "a5425ac7-41de-4319-9972-37e6363b36ab"
      },
      "execution_count": null,
      "outputs": [
        {
          "output_type": "stream",
          "name": "stdout",
          "text": [
            "Looking in indexes: https://pypi.org/simple, https://us-python.pkg.dev/colab-wheels/public/simple/\n",
            "Collecting pyspark\n",
            "  Downloading pyspark-3.2.1.tar.gz (281.4 MB)\n",
            "\u001b[K     |████████████████████████████████| 281.4 MB 33 kB/s \n",
            "\u001b[?25hCollecting py4j==0.10.9.3\n",
            "  Downloading py4j-0.10.9.3-py2.py3-none-any.whl (198 kB)\n",
            "\u001b[K     |████████████████████████████████| 198 kB 34.4 MB/s \n",
            "\u001b[?25hBuilding wheels for collected packages: pyspark\n",
            "  Building wheel for pyspark (setup.py) ... \u001b[?25l\u001b[?25hdone\n",
            "  Created wheel for pyspark: filename=pyspark-3.2.1-py2.py3-none-any.whl size=281853642 sha256=1764bf4828bec4e2d1e50d84dab7c6315cc0398151e8a86b99f35617e6cc62fe\n",
            "  Stored in directory: /root/.cache/pip/wheels/9f/f5/07/7cd8017084dce4e93e84e92efd1e1d5334db05f2e83bcef74f\n",
            "Successfully built pyspark\n",
            "Installing collected packages: py4j, pyspark\n",
            "Successfully installed py4j-0.10.9.3 pyspark-3.2.1\n"
          ]
        }
      ]
    },
    {
      "cell_type": "code",
      "source": [
        "from google.colab import drive\n",
        "from pyspark.sql.functions import *\n",
        "from pyspark.sql import SparkSession\n",
        "spark = SparkSession.builder.master('local[*]').getOrCreate()"
      ],
      "metadata": {
        "id": "s5rrcj4uvGKv"
      },
      "execution_count": null,
      "outputs": []
    },
    {
      "cell_type": "code",
      "source": [
        "drive.mount('/content/drive')"
      ],
      "metadata": {
        "colab": {
          "base_uri": "https://localhost:8080/"
        },
        "id": "sd5rhJonva8x",
        "outputId": "e85ce6ca-bc6a-47f8-e3bf-55f6982ff313"
      },
      "execution_count": null,
      "outputs": [
        {
          "output_type": "stream",
          "name": "stdout",
          "text": [
            "Mounted at /content/drive\n"
          ]
        }
      ]
    },
    {
      "cell_type": "code",
      "source": [
        "#lendo csv do primeiro dataset\n",
        "path = ['/content/drive/MyDrive/arquivos_ama/OneDrive_1_25-05-2022-20220602T184014Z-001.zip (Unzipped Files)/OneDrive_1_25-05-2022/01S2020.csv',\n",
        "        '/content/drive/MyDrive/arquivos_ama/OneDrive_1_25-05-2022-20220602T184014Z-001.zip (Unzipped Files)/OneDrive_1_25-05-2022/1S2017.csv',\n",
        "        '/content/drive/MyDrive/arquivos_ama/OneDrive_1_25-05-2022-20220602T184014Z-001.zip (Unzipped Files)/OneDrive_1_25-05-2022/1S2018.csv',\n",
        "        '/content/drive/MyDrive/arquivos_ama/OneDrive_1_25-05-2022-20220602T184014Z-001.zip (Unzipped Files)/OneDrive_1_25-05-2022/1S2019.csv',\n",
        "        '/content/drive/MyDrive/arquivos_ama/OneDrive_1_25-05-2022-20220602T184014Z-001.zip (Unzipped Files)/OneDrive_1_25-05-2022/1S2021.csv',\n",
        "        '/content/drive/MyDrive/arquivos_ama/OneDrive_1_25-05-2022-20220602T184014Z-001.zip (Unzipped Files)/OneDrive_1_25-05-2022/2S2017.csv',\n",
        "        '/content/drive/MyDrive/arquivos_ama/OneDrive_1_25-05-2022-20220602T184014Z-001.zip (Unzipped Files)/OneDrive_1_25-05-2022/2S2018.csv',\n",
        "        '/content/drive/MyDrive/arquivos_ama/OneDrive_1_25-05-2022-20220602T184014Z-001.zip (Unzipped Files)/OneDrive_1_25-05-2022/2S2019.csv',\n",
        "        '/content/drive/MyDrive/arquivos_ama/OneDrive_1_25-05-2022-20220602T184014Z-001.zip (Unzipped Files)/OneDrive_1_25-05-2022/2S2021.csv']\n",
        "\n"
      ],
      "metadata": {
        "id": "gzWXAJbKwZkB"
      },
      "execution_count": 127,
      "outputs": []
    },
    {
      "cell_type": "code",
      "source": [
        "csv= spark.read.format('csv')\\\n",
        "  .option(\"header\",\"true\")\\\n",
        "\t.option(\"delimiter\",\"\\t\")\\\n",
        "  .option(\"encoding\", \"utf-16\")\\\n",
        "  .option(\"multiline\", \"true\")\\\n",
        "  .load('/content/drive/MyDrive/arquivos_ama/OneDrive_1_25-05-2022-20220602T184014Z-001.zip (Unzipped Files)/OneDrive_1_25-05-2022/*.csv')\n",
        "\t\n",
        "  "
      ],
      "metadata": {
        "id": "yEw1efHkHkoI"
      },
      "execution_count": 138,
      "outputs": []
    },
    {
      "cell_type": "code",
      "source": [
        "csv.show(5)"
      ],
      "metadata": {
        "colab": {
          "base_uri": "https://localhost:8080/"
        },
        "id": "fMX0CI6RL3nn",
        "outputId": "087e1ce3-04a5-4b6b-97a2-f24ef160523d"
      },
      "execution_count": 136,
      "outputs": [
        {
          "output_type": "stream",
          "name": "stdout",
          "text": [
            "+------------------+--------------------+------+------------+--------+-------------+--------+-------------------+\n",
            "|        CNPJ emit.|            Emitente|   No.|Data Emissão|Valor NF|Data Registro|Créditos|Situação do Crédito|\n",
            "+------------------+--------------------+------+------------+--------+-------------+--------+-------------------+\n",
            "|05.234.750/0001-41|      TX BURGER LTDA| 77882|  01/01/2020|    78,8|   08/01/2020|       0|        A Calcular\r|\n",
            "|47.508.411/1476-88|CIA BRASILEIRA DE...| 20087|  01/01/2020|   22,71|   01/01/2020|       0|        A Calcular\r|\n",
            "|09.060.964/0108-39|PIMENTA VERDE ALI...| 82366|  01/01/2020|    35,9|   08/01/2020|       0|        A Calcular\r|\n",
            "|61.412.110/0307-39|DROGARIA SAO PAUL...|234178|  01/01/2020|   21,77|   08/01/2020|       0|        A Calcular\r|\n",
            "|46.952.032/0001-98|PANIFICADORA E CO...|  3305|  01/01/2020|   80,95|   08/01/2020|       0|        A Calcular\r|\n",
            "+------------------+--------------------+------+------------+--------+-------------+--------+-------------------+\n",
            "only showing top 5 rows\n",
            "\n"
          ]
        }
      ]
    },
    {
      "cell_type": "code",
      "source": [
        "csv.count()"
      ],
      "metadata": {
        "colab": {
          "base_uri": "https://localhost:8080/"
        },
        "id": "EQJW-G89PIlY",
        "outputId": "889de06a-b0a5-4897-bcc7-3df7de9ca3f5"
      },
      "execution_count": 140,
      "outputs": [
        {
          "output_type": "execute_result",
          "data": {
            "text/plain": [
              "165464"
            ]
          },
          "metadata": {},
          "execution_count": 140
        }
      ]
    },
    {
      "cell_type": "code",
      "source": [
        "csv.printSchema()"
      ],
      "metadata": {
        "colab": {
          "base_uri": "https://localhost:8080/"
        },
        "id": "eIz3ny6LLWdn",
        "outputId": "79d649d0-d2a1-4ff0-dba2-7232889b1bf7"
      },
      "execution_count": 139,
      "outputs": [
        {
          "output_type": "stream",
          "name": "stdout",
          "text": [
            "root\n",
            " |-- CNPJ emit.: string (nullable = true)\n",
            " |-- Emitente: string (nullable = true)\n",
            " |-- No.: string (nullable = true)\n",
            " |-- Data Emissão: string (nullable = true)\n",
            " |-- Valor NF: string (nullable = true)\n",
            " |-- Data Registro: string (nullable = true)\n",
            " |-- Créditos: string (nullable = true)\n",
            " |-- Situação do Crédito: string (nullable = true)\n",
            "\n"
          ]
        }
      ]
    },
    {
      "cell_type": "code",
      "source": [
        "data = csv.withColumnRenamed('CNPJ emit.','cnp_emit') \\\n",
        "          .withColumnRenamed('Emitente','emitente')\\\n",
        "          .withColumnRenamed('No.','numero') \\\n",
        "          .withColumnRenamed('Data Emissão','data_emissao')\\\n",
        "          .withColumnRenamed('Valor NF','valor_nf')\\\n",
        "          .withColumnRenamed('Data Registro','data_registro')\\\n",
        "          .withColumnRenamed('Créditos','creditos')\\\n",
        "          .withColumnRenamed('Situação do Crédito','situacao_do_credito')"
      ],
      "metadata": {
        "id": "RV5S3vrDDKYU"
      },
      "execution_count": 144,
      "outputs": []
    },
    {
      "cell_type": "code",
      "source": [
        "data = data.withColumn('valor_nf', regexp_replace('valor_nf', ',', '.'))\\\n",
        "           .withColumn('creditos', regexp_replace('creditos', ',', '.'))"
      ],
      "metadata": {
        "id": "nlAlPAvBxuCB"
      },
      "execution_count": 145,
      "outputs": []
    },
    {
      "cell_type": "code",
      "source": [
        "data.toPandas()\n"
      ],
      "metadata": {
        "colab": {
          "base_uri": "https://localhost:8080/",
          "height": 748
        },
        "id": "oQZ8dgkiIGeA",
        "outputId": "b9d9a371-a0d4-49aa-811a-434b60eac0ce"
      },
      "execution_count": 146,
      "outputs": [
        {
          "output_type": "execute_result",
          "data": {
            "text/plain": [
              "                  cnp_emit                                emitente   numero  \\\n",
              "0       05.234.750/0001-41                          TX BURGER LTDA    77882   \n",
              "1       47.508.411/1476-88          CIA BRASILEIRA DE DISTRIBUICAO    20087   \n",
              "2       09.060.964/0108-39            PIMENTA VERDE ALIMENTOS LTDA    82366   \n",
              "3       61.412.110/0307-39                  DROGARIA SAO PAULO S A   234178   \n",
              "4       46.952.032/0001-98  PANIFICADORA E CONFEITARIA QUELUZ LTDA     3305   \n",
              "...                    ...                                     ...      ...   \n",
              "165459  61.116.828/0001-02        CALVO COMERCIO E IMPORTACAO LTDA   411588   \n",
              "165460  67.616.128/0001-55                   MERCADINHO AYUMI LTDA    43860   \n",
              "165461  54.651.716/0011-50              SUPRICORP SUPRIMENTOS LTDA  3100306   \n",
              "165462  67.616.128/0001-55               MERCADINHO AYUMI LTDA - 1    27754   \n",
              "165463  52.504.024/0004-24                SUPERMERCADO PIERIM LTDA   197983   \n",
              "\n",
              "       data_emissao valor_nf data_registro creditos situacao_do_credito  \n",
              "0        01/01/2020     78.8    08/01/2020        0        A Calcular\\r  \n",
              "1        01/01/2020    22.71    01/01/2020        0        A Calcular\\r  \n",
              "2        01/01/2020     35.9    08/01/2020        0        A Calcular\\r  \n",
              "3        01/01/2020    21.77    08/01/2020        0        A Calcular\\r  \n",
              "4        01/01/2020    80.95    08/01/2020        0        A Calcular\\r  \n",
              "...             ...      ...           ...      ...                 ...  \n",
              "165459   02/01/2018   360.82    02/01/2018        0          Liberado\\r  \n",
              "165460   02/01/2018   194.02    02/01/2018       45          Liberado\\r  \n",
              "165461   02/01/2018    81.87    02/01/2018        0          Liberado\\r  \n",
              "165462   02/01/2018   194.02    02/01/2018        0          Liberado\\r  \n",
              "165463   02/01/2018    284.2    03/01/2018     19.3          Liberado\\r  \n",
              "\n",
              "[165464 rows x 8 columns]"
            ],
            "text/html": [
              "\n",
              "  <div id=\"df-30b4eca0-20e2-4b33-abb7-782c72c75a35\">\n",
              "    <div class=\"colab-df-container\">\n",
              "      <div>\n",
              "<style scoped>\n",
              "    .dataframe tbody tr th:only-of-type {\n",
              "        vertical-align: middle;\n",
              "    }\n",
              "\n",
              "    .dataframe tbody tr th {\n",
              "        vertical-align: top;\n",
              "    }\n",
              "\n",
              "    .dataframe thead th {\n",
              "        text-align: right;\n",
              "    }\n",
              "</style>\n",
              "<table border=\"1\" class=\"dataframe\">\n",
              "  <thead>\n",
              "    <tr style=\"text-align: right;\">\n",
              "      <th></th>\n",
              "      <th>cnp_emit</th>\n",
              "      <th>emitente</th>\n",
              "      <th>numero</th>\n",
              "      <th>data_emissao</th>\n",
              "      <th>valor_nf</th>\n",
              "      <th>data_registro</th>\n",
              "      <th>creditos</th>\n",
              "      <th>situacao_do_credito</th>\n",
              "    </tr>\n",
              "  </thead>\n",
              "  <tbody>\n",
              "    <tr>\n",
              "      <th>0</th>\n",
              "      <td>05.234.750/0001-41</td>\n",
              "      <td>TX BURGER LTDA</td>\n",
              "      <td>77882</td>\n",
              "      <td>01/01/2020</td>\n",
              "      <td>78.8</td>\n",
              "      <td>08/01/2020</td>\n",
              "      <td>0</td>\n",
              "      <td>A Calcular\\r</td>\n",
              "    </tr>\n",
              "    <tr>\n",
              "      <th>1</th>\n",
              "      <td>47.508.411/1476-88</td>\n",
              "      <td>CIA BRASILEIRA DE DISTRIBUICAO</td>\n",
              "      <td>20087</td>\n",
              "      <td>01/01/2020</td>\n",
              "      <td>22.71</td>\n",
              "      <td>01/01/2020</td>\n",
              "      <td>0</td>\n",
              "      <td>A Calcular\\r</td>\n",
              "    </tr>\n",
              "    <tr>\n",
              "      <th>2</th>\n",
              "      <td>09.060.964/0108-39</td>\n",
              "      <td>PIMENTA VERDE ALIMENTOS LTDA</td>\n",
              "      <td>82366</td>\n",
              "      <td>01/01/2020</td>\n",
              "      <td>35.9</td>\n",
              "      <td>08/01/2020</td>\n",
              "      <td>0</td>\n",
              "      <td>A Calcular\\r</td>\n",
              "    </tr>\n",
              "    <tr>\n",
              "      <th>3</th>\n",
              "      <td>61.412.110/0307-39</td>\n",
              "      <td>DROGARIA SAO PAULO S A</td>\n",
              "      <td>234178</td>\n",
              "      <td>01/01/2020</td>\n",
              "      <td>21.77</td>\n",
              "      <td>08/01/2020</td>\n",
              "      <td>0</td>\n",
              "      <td>A Calcular\\r</td>\n",
              "    </tr>\n",
              "    <tr>\n",
              "      <th>4</th>\n",
              "      <td>46.952.032/0001-98</td>\n",
              "      <td>PANIFICADORA E CONFEITARIA QUELUZ LTDA</td>\n",
              "      <td>3305</td>\n",
              "      <td>01/01/2020</td>\n",
              "      <td>80.95</td>\n",
              "      <td>08/01/2020</td>\n",
              "      <td>0</td>\n",
              "      <td>A Calcular\\r</td>\n",
              "    </tr>\n",
              "    <tr>\n",
              "      <th>...</th>\n",
              "      <td>...</td>\n",
              "      <td>...</td>\n",
              "      <td>...</td>\n",
              "      <td>...</td>\n",
              "      <td>...</td>\n",
              "      <td>...</td>\n",
              "      <td>...</td>\n",
              "      <td>...</td>\n",
              "    </tr>\n",
              "    <tr>\n",
              "      <th>165459</th>\n",
              "      <td>61.116.828/0001-02</td>\n",
              "      <td>CALVO COMERCIO E IMPORTACAO LTDA</td>\n",
              "      <td>411588</td>\n",
              "      <td>02/01/2018</td>\n",
              "      <td>360.82</td>\n",
              "      <td>02/01/2018</td>\n",
              "      <td>0</td>\n",
              "      <td>Liberado\\r</td>\n",
              "    </tr>\n",
              "    <tr>\n",
              "      <th>165460</th>\n",
              "      <td>67.616.128/0001-55</td>\n",
              "      <td>MERCADINHO AYUMI LTDA</td>\n",
              "      <td>43860</td>\n",
              "      <td>02/01/2018</td>\n",
              "      <td>194.02</td>\n",
              "      <td>02/01/2018</td>\n",
              "      <td>45</td>\n",
              "      <td>Liberado\\r</td>\n",
              "    </tr>\n",
              "    <tr>\n",
              "      <th>165461</th>\n",
              "      <td>54.651.716/0011-50</td>\n",
              "      <td>SUPRICORP SUPRIMENTOS LTDA</td>\n",
              "      <td>3100306</td>\n",
              "      <td>02/01/2018</td>\n",
              "      <td>81.87</td>\n",
              "      <td>02/01/2018</td>\n",
              "      <td>0</td>\n",
              "      <td>Liberado\\r</td>\n",
              "    </tr>\n",
              "    <tr>\n",
              "      <th>165462</th>\n",
              "      <td>67.616.128/0001-55</td>\n",
              "      <td>MERCADINHO AYUMI LTDA - 1</td>\n",
              "      <td>27754</td>\n",
              "      <td>02/01/2018</td>\n",
              "      <td>194.02</td>\n",
              "      <td>02/01/2018</td>\n",
              "      <td>0</td>\n",
              "      <td>Liberado\\r</td>\n",
              "    </tr>\n",
              "    <tr>\n",
              "      <th>165463</th>\n",
              "      <td>52.504.024/0004-24</td>\n",
              "      <td>SUPERMERCADO PIERIM LTDA</td>\n",
              "      <td>197983</td>\n",
              "      <td>02/01/2018</td>\n",
              "      <td>284.2</td>\n",
              "      <td>03/01/2018</td>\n",
              "      <td>19.3</td>\n",
              "      <td>Liberado\\r</td>\n",
              "    </tr>\n",
              "  </tbody>\n",
              "</table>\n",
              "<p>165464 rows × 8 columns</p>\n",
              "</div>\n",
              "      <button class=\"colab-df-convert\" onclick=\"convertToInteractive('df-30b4eca0-20e2-4b33-abb7-782c72c75a35')\"\n",
              "              title=\"Convert this dataframe to an interactive table.\"\n",
              "              style=\"display:none;\">\n",
              "        \n",
              "  <svg xmlns=\"http://www.w3.org/2000/svg\" height=\"24px\"viewBox=\"0 0 24 24\"\n",
              "       width=\"24px\">\n",
              "    <path d=\"M0 0h24v24H0V0z\" fill=\"none\"/>\n",
              "    <path d=\"M18.56 5.44l.94 2.06.94-2.06 2.06-.94-2.06-.94-.94-2.06-.94 2.06-2.06.94zm-11 1L8.5 8.5l.94-2.06 2.06-.94-2.06-.94L8.5 2.5l-.94 2.06-2.06.94zm10 10l.94 2.06.94-2.06 2.06-.94-2.06-.94-.94-2.06-.94 2.06-2.06.94z\"/><path d=\"M17.41 7.96l-1.37-1.37c-.4-.4-.92-.59-1.43-.59-.52 0-1.04.2-1.43.59L10.3 9.45l-7.72 7.72c-.78.78-.78 2.05 0 2.83L4 21.41c.39.39.9.59 1.41.59.51 0 1.02-.2 1.41-.59l7.78-7.78 2.81-2.81c.8-.78.8-2.07 0-2.86zM5.41 20L4 18.59l7.72-7.72 1.47 1.35L5.41 20z\"/>\n",
              "  </svg>\n",
              "      </button>\n",
              "      \n",
              "  <style>\n",
              "    .colab-df-container {\n",
              "      display:flex;\n",
              "      flex-wrap:wrap;\n",
              "      gap: 12px;\n",
              "    }\n",
              "\n",
              "    .colab-df-convert {\n",
              "      background-color: #E8F0FE;\n",
              "      border: none;\n",
              "      border-radius: 50%;\n",
              "      cursor: pointer;\n",
              "      display: none;\n",
              "      fill: #1967D2;\n",
              "      height: 32px;\n",
              "      padding: 0 0 0 0;\n",
              "      width: 32px;\n",
              "    }\n",
              "\n",
              "    .colab-df-convert:hover {\n",
              "      background-color: #E2EBFA;\n",
              "      box-shadow: 0px 1px 2px rgba(60, 64, 67, 0.3), 0px 1px 3px 1px rgba(60, 64, 67, 0.15);\n",
              "      fill: #174EA6;\n",
              "    }\n",
              "\n",
              "    [theme=dark] .colab-df-convert {\n",
              "      background-color: #3B4455;\n",
              "      fill: #D2E3FC;\n",
              "    }\n",
              "\n",
              "    [theme=dark] .colab-df-convert:hover {\n",
              "      background-color: #434B5C;\n",
              "      box-shadow: 0px 1px 3px 1px rgba(0, 0, 0, 0.15);\n",
              "      filter: drop-shadow(0px 1px 2px rgba(0, 0, 0, 0.3));\n",
              "      fill: #FFFFFF;\n",
              "    }\n",
              "  </style>\n",
              "\n",
              "      <script>\n",
              "        const buttonEl =\n",
              "          document.querySelector('#df-30b4eca0-20e2-4b33-abb7-782c72c75a35 button.colab-df-convert');\n",
              "        buttonEl.style.display =\n",
              "          google.colab.kernel.accessAllowed ? 'block' : 'none';\n",
              "\n",
              "        async function convertToInteractive(key) {\n",
              "          const element = document.querySelector('#df-30b4eca0-20e2-4b33-abb7-782c72c75a35');\n",
              "          const dataTable =\n",
              "            await google.colab.kernel.invokeFunction('convertToInteractive',\n",
              "                                                     [key], {});\n",
              "          if (!dataTable) return;\n",
              "\n",
              "          const docLinkHtml = 'Like what you see? Visit the ' +\n",
              "            '<a target=\"_blank\" href=https://colab.research.google.com/notebooks/data_table.ipynb>data table notebook</a>'\n",
              "            + ' to learn more about interactive tables.';\n",
              "          element.innerHTML = '';\n",
              "          dataTable['output_type'] = 'display_data';\n",
              "          await google.colab.output.renderOutput(dataTable, element);\n",
              "          const docLink = document.createElement('div');\n",
              "          docLink.innerHTML = docLinkHtml;\n",
              "          element.appendChild(docLink);\n",
              "        }\n",
              "      </script>\n",
              "    </div>\n",
              "  </div>\n",
              "  "
            ]
          },
          "metadata": {},
          "execution_count": 146
        }
      ]
    },
    {
      "cell_type": "code",
      "source": [
        "spark.sql(\"select * from data_data\").show(5)\n"
      ],
      "metadata": {
        "id": "5RRnPtp97oPe",
        "colab": {
          "base_uri": "https://localhost:8080/"
        },
        "outputId": "96b20b00-2c15-4c09-f89f-f3955446fab9"
      },
      "execution_count": 123,
      "outputs": [
        {
          "output_type": "stream",
          "name": "stdout",
          "text": [
            "+------------------+--------------------+------+------------+--------+-------------+--------+-------------------+\n",
            "|          cnp_emit|            emitente|numero|data_emissao|valor_nf|data_registro|creditos|situacao_do_credito|\n",
            "+------------------+--------------------+------+------------+--------+-------------+--------+-------------------+\n",
            "|05.234.750/0001-41|      TX BURGER LTDA| 77882|  01/01/2020|    78.8|   08/01/2020|       0|        A Calcular\r|\n",
            "|47.508.411/1476-88|CIA BRASILEIRA DE...| 20087|  01/01/2020|   22.71|   01/01/2020|       0|        A Calcular\r|\n",
            "|09.060.964/0108-39|PIMENTA VERDE ALI...| 82366|  01/01/2020|    35.9|   08/01/2020|       0|        A Calcular\r|\n",
            "|61.412.110/0307-39|DROGARIA SAO PAUL...|234178|  01/01/2020|   21.77|   08/01/2020|       0|        A Calcular\r|\n",
            "|46.952.032/0001-98|PANIFICADORA E CO...|  3305|  01/01/2020|   80.95|   08/01/2020|       0|        A Calcular\r|\n",
            "+------------------+--------------------+------+------------+--------+-------------+--------+-------------------+\n",
            "only showing top 5 rows\n",
            "\n"
          ]
        }
      ]
    },
    {
      "cell_type": "code",
      "source": [
        ""
      ],
      "metadata": {
        "id": "QQe5dVyrFvRA"
      },
      "execution_count": null,
      "outputs": []
    }
  ]
}